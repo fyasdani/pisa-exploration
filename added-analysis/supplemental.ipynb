{
 "cells": [
  {
   "cell_type": "code",
   "execution_count": 1,
   "id": "a0cfb01e-b933-49d6-a58e-09eec2441fef",
   "metadata": {},
   "outputs": [],
   "source": [
    "import pandas as pd\n",
    "import numpy as np\n",
    "import seaborn as sns\n",
    "import matplotlib.pyplot as plt"
   ]
  },
  {
   "cell_type": "code",
   "execution_count": 2,
   "id": "6865e98d-66e5-4484-906e-e12a1940dd90",
   "metadata": {
    "tags": []
   },
   "outputs": [],
   "source": [
    "sns.set_style('white')\n",
    "sns.set_color_codes('deep')"
   ]
  },
  {
   "cell_type": "code",
   "execution_count": 3,
   "id": "2e2df913-fcd9-4e55-89ef-a26331a4feae",
   "metadata": {},
   "outputs": [],
   "source": [
    "# read in 2012 math performance data (https://data.oecd.org/pisa/mathematics-performance-pisa.htm)\n",
    "df = pd.read_csv('DP_LIVE_24092023123623831.csv')"
   ]
  },
  {
   "cell_type": "code",
   "execution_count": 4,
   "id": "c4f82ced-4b83-49cf-a48c-721a8474cd8f",
   "metadata": {},
   "outputs": [
    {
     "data": {
      "text/html": [
       "<div>\n",
       "<style scoped>\n",
       "    .dataframe tbody tr th:only-of-type {\n",
       "        vertical-align: middle;\n",
       "    }\n",
       "\n",
       "    .dataframe tbody tr th {\n",
       "        vertical-align: top;\n",
       "    }\n",
       "\n",
       "    .dataframe thead th {\n",
       "        text-align: right;\n",
       "    }\n",
       "</style>\n",
       "<table border=\"1\" class=\"dataframe\">\n",
       "  <thead>\n",
       "    <tr style=\"text-align: right;\">\n",
       "      <th></th>\n",
       "      <th>LOCATION</th>\n",
       "      <th>INDICATOR</th>\n",
       "      <th>SUBJECT</th>\n",
       "      <th>MEASURE</th>\n",
       "      <th>FREQUENCY</th>\n",
       "      <th>TIME</th>\n",
       "      <th>Value</th>\n",
       "      <th>Flag Codes</th>\n",
       "    </tr>\n",
       "  </thead>\n",
       "  <tbody>\n",
       "    <tr>\n",
       "      <th>0</th>\n",
       "      <td>AUS</td>\n",
       "      <td>PISAMATH</td>\n",
       "      <td>BOY</td>\n",
       "      <td>MEANSCORE</td>\n",
       "      <td>A</td>\n",
       "      <td>2003</td>\n",
       "      <td>527.000</td>\n",
       "      <td>NaN</td>\n",
       "    </tr>\n",
       "    <tr>\n",
       "      <th>1</th>\n",
       "      <td>AUS</td>\n",
       "      <td>PISAMATH</td>\n",
       "      <td>BOY</td>\n",
       "      <td>MEANSCORE</td>\n",
       "      <td>A</td>\n",
       "      <td>2006</td>\n",
       "      <td>527.000</td>\n",
       "      <td>NaN</td>\n",
       "    </tr>\n",
       "    <tr>\n",
       "      <th>2</th>\n",
       "      <td>AUS</td>\n",
       "      <td>PISAMATH</td>\n",
       "      <td>BOY</td>\n",
       "      <td>MEANSCORE</td>\n",
       "      <td>A</td>\n",
       "      <td>2009</td>\n",
       "      <td>519.000</td>\n",
       "      <td>NaN</td>\n",
       "    </tr>\n",
       "    <tr>\n",
       "      <th>3</th>\n",
       "      <td>AUS</td>\n",
       "      <td>PISAMATH</td>\n",
       "      <td>BOY</td>\n",
       "      <td>MEANSCORE</td>\n",
       "      <td>A</td>\n",
       "      <td>2012</td>\n",
       "      <td>510.115</td>\n",
       "      <td>NaN</td>\n",
       "    </tr>\n",
       "    <tr>\n",
       "      <th>4</th>\n",
       "      <td>AUS</td>\n",
       "      <td>PISAMATH</td>\n",
       "      <td>BOY</td>\n",
       "      <td>MEANSCORE</td>\n",
       "      <td>A</td>\n",
       "      <td>2015</td>\n",
       "      <td>497.000</td>\n",
       "      <td>NaN</td>\n",
       "    </tr>\n",
       "    <tr>\n",
       "      <th>...</th>\n",
       "      <td>...</td>\n",
       "      <td>...</td>\n",
       "      <td>...</td>\n",
       "      <td>...</td>\n",
       "      <td>...</td>\n",
       "      <td>...</td>\n",
       "      <td>...</td>\n",
       "      <td>...</td>\n",
       "    </tr>\n",
       "    <tr>\n",
       "      <th>695</th>\n",
       "      <td>CRI</td>\n",
       "      <td>PISAMATH</td>\n",
       "      <td>BOY</td>\n",
       "      <td>MEANSCORE</td>\n",
       "      <td>A</td>\n",
       "      <td>2018</td>\n",
       "      <td>411.000</td>\n",
       "      <td>NaN</td>\n",
       "    </tr>\n",
       "    <tr>\n",
       "      <th>696</th>\n",
       "      <td>CRI</td>\n",
       "      <td>PISAMATH</td>\n",
       "      <td>GIRL</td>\n",
       "      <td>MEANSCORE</td>\n",
       "      <td>A</td>\n",
       "      <td>2018</td>\n",
       "      <td>394.000</td>\n",
       "      <td>NaN</td>\n",
       "    </tr>\n",
       "    <tr>\n",
       "      <th>697</th>\n",
       "      <td>LTU</td>\n",
       "      <td>PISAMATH</td>\n",
       "      <td>TOT</td>\n",
       "      <td>MEANSCORE</td>\n",
       "      <td>A</td>\n",
       "      <td>2018</td>\n",
       "      <td>481.000</td>\n",
       "      <td>NaN</td>\n",
       "    </tr>\n",
       "    <tr>\n",
       "      <th>698</th>\n",
       "      <td>LTU</td>\n",
       "      <td>PISAMATH</td>\n",
       "      <td>BOY</td>\n",
       "      <td>MEANSCORE</td>\n",
       "      <td>A</td>\n",
       "      <td>2018</td>\n",
       "      <td>480.000</td>\n",
       "      <td>NaN</td>\n",
       "    </tr>\n",
       "    <tr>\n",
       "      <th>699</th>\n",
       "      <td>LTU</td>\n",
       "      <td>PISAMATH</td>\n",
       "      <td>GIRL</td>\n",
       "      <td>MEANSCORE</td>\n",
       "      <td>A</td>\n",
       "      <td>2018</td>\n",
       "      <td>482.000</td>\n",
       "      <td>NaN</td>\n",
       "    </tr>\n",
       "  </tbody>\n",
       "</table>\n",
       "<p>700 rows × 8 columns</p>\n",
       "</div>"
      ],
      "text/plain": [
       "    LOCATION INDICATOR SUBJECT    MEASURE FREQUENCY  TIME    Value  Flag Codes\n",
       "0        AUS  PISAMATH     BOY  MEANSCORE         A  2003  527.000         NaN\n",
       "1        AUS  PISAMATH     BOY  MEANSCORE         A  2006  527.000         NaN\n",
       "2        AUS  PISAMATH     BOY  MEANSCORE         A  2009  519.000         NaN\n",
       "3        AUS  PISAMATH     BOY  MEANSCORE         A  2012  510.115         NaN\n",
       "4        AUS  PISAMATH     BOY  MEANSCORE         A  2015  497.000         NaN\n",
       "..       ...       ...     ...        ...       ...   ...      ...         ...\n",
       "695      CRI  PISAMATH     BOY  MEANSCORE         A  2018  411.000         NaN\n",
       "696      CRI  PISAMATH    GIRL  MEANSCORE         A  2018  394.000         NaN\n",
       "697      LTU  PISAMATH     TOT  MEANSCORE         A  2018  481.000         NaN\n",
       "698      LTU  PISAMATH     BOY  MEANSCORE         A  2018  480.000         NaN\n",
       "699      LTU  PISAMATH    GIRL  MEANSCORE         A  2018  482.000         NaN\n",
       "\n",
       "[700 rows x 8 columns]"
      ]
     },
     "execution_count": 4,
     "metadata": {},
     "output_type": "execute_result"
    }
   ],
   "source": [
    "df"
   ]
  },
  {
   "cell_type": "markdown",
   "id": "d6b0ba9b-ce16-4c3e-b242-cb3461c07613",
   "metadata": {},
   "source": [
    "## Wrangle"
   ]
  },
  {
   "cell_type": "markdown",
   "id": "4089554b-0727-492f-9db7-fbfb34615ca2",
   "metadata": {},
   "source": [
    "Country codes are handy but can be hard to decipher—supplement with proper names."
   ]
  },
  {
   "cell_type": "code",
   "execution_count": 5,
   "id": "5d1dccc9-7fc8-46a1-bf41-45fd510d921d",
   "metadata": {
    "tags": []
   },
   "outputs": [],
   "source": [
    "# read in country code data (https://www.iban.com/country-codes)\n",
    "cc_df = pd.read_csv('COUNTRY_CODES_ALPHA-2_&_ALPHA-3.csv',\n",
    "                    sep=';',\n",
    "                    usecols=['Country', 'Alpha-3 code'])"
   ]
  },
  {
   "cell_type": "code",
   "execution_count": 6,
   "id": "3caceea0-92e8-440a-8740-91ec0c1d9e82",
   "metadata": {
    "tags": []
   },
   "outputs": [
    {
     "data": {
      "text/html": [
       "<div>\n",
       "<style scoped>\n",
       "    .dataframe tbody tr th:only-of-type {\n",
       "        vertical-align: middle;\n",
       "    }\n",
       "\n",
       "    .dataframe tbody tr th {\n",
       "        vertical-align: top;\n",
       "    }\n",
       "\n",
       "    .dataframe thead th {\n",
       "        text-align: right;\n",
       "    }\n",
       "</style>\n",
       "<table border=\"1\" class=\"dataframe\">\n",
       "  <thead>\n",
       "    <tr style=\"text-align: right;\">\n",
       "      <th></th>\n",
       "      <th>Country</th>\n",
       "      <th>Alpha-3 code</th>\n",
       "    </tr>\n",
       "  </thead>\n",
       "  <tbody>\n",
       "    <tr>\n",
       "      <th>0</th>\n",
       "      <td>Afghanistan</td>\n",
       "      <td>AFG</td>\n",
       "    </tr>\n",
       "    <tr>\n",
       "      <th>1</th>\n",
       "      <td>Åland Islands</td>\n",
       "      <td>ALA</td>\n",
       "    </tr>\n",
       "    <tr>\n",
       "      <th>2</th>\n",
       "      <td>Albania</td>\n",
       "      <td>ALB</td>\n",
       "    </tr>\n",
       "    <tr>\n",
       "      <th>3</th>\n",
       "      <td>Algeria</td>\n",
       "      <td>DZA</td>\n",
       "    </tr>\n",
       "    <tr>\n",
       "      <th>4</th>\n",
       "      <td>American Samoa</td>\n",
       "      <td>ASM</td>\n",
       "    </tr>\n",
       "  </tbody>\n",
       "</table>\n",
       "</div>"
      ],
      "text/plain": [
       "          Country Alpha-3 code\n",
       "0     Afghanistan          AFG\n",
       "1   Åland Islands          ALA\n",
       "2         Albania          ALB\n",
       "3         Algeria          DZA\n",
       "4  American Samoa          ASM"
      ]
     },
     "execution_count": 6,
     "metadata": {},
     "output_type": "execute_result"
    }
   ],
   "source": [
    "cc_df.head()"
   ]
  },
  {
   "cell_type": "code",
   "execution_count": 7,
   "id": "e2b307c6-04a4-4140-9747-00677b7f6832",
   "metadata": {
    "tags": []
   },
   "outputs": [],
   "source": [
    "# rename \"key\" column for merge...\n",
    "cc_df = cc_df.rename(columns={'Alpha-3 code': 'LOCATION'})"
   ]
  },
  {
   "cell_type": "code",
   "execution_count": 8,
   "id": "0d1be24d-a412-4aa5-9ce4-593e8cbc1b33",
   "metadata": {
    "tags": []
   },
   "outputs": [],
   "source": [
    "# add country names to main dataframe\n",
    "df = pd.merge(df, cc_df, on='LOCATION', how='left')"
   ]
  },
  {
   "cell_type": "code",
   "execution_count": 9,
   "id": "008b479e-8221-4df7-9eb5-d16f8cf77352",
   "metadata": {
    "tags": []
   },
   "outputs": [
    {
     "data": {
      "text/html": [
       "<div>\n",
       "<style scoped>\n",
       "    .dataframe tbody tr th:only-of-type {\n",
       "        vertical-align: middle;\n",
       "    }\n",
       "\n",
       "    .dataframe tbody tr th {\n",
       "        vertical-align: top;\n",
       "    }\n",
       "\n",
       "    .dataframe thead th {\n",
       "        text-align: right;\n",
       "    }\n",
       "</style>\n",
       "<table border=\"1\" class=\"dataframe\">\n",
       "  <thead>\n",
       "    <tr style=\"text-align: right;\">\n",
       "      <th></th>\n",
       "      <th>LOCATION</th>\n",
       "      <th>INDICATOR</th>\n",
       "      <th>SUBJECT</th>\n",
       "      <th>MEASURE</th>\n",
       "      <th>FREQUENCY</th>\n",
       "      <th>TIME</th>\n",
       "      <th>Value</th>\n",
       "      <th>Flag Codes</th>\n",
       "      <th>Country</th>\n",
       "    </tr>\n",
       "  </thead>\n",
       "  <tbody>\n",
       "    <tr>\n",
       "      <th>0</th>\n",
       "      <td>AUS</td>\n",
       "      <td>PISAMATH</td>\n",
       "      <td>BOY</td>\n",
       "      <td>MEANSCORE</td>\n",
       "      <td>A</td>\n",
       "      <td>2003</td>\n",
       "      <td>527.000</td>\n",
       "      <td>NaN</td>\n",
       "      <td>Australia</td>\n",
       "    </tr>\n",
       "    <tr>\n",
       "      <th>1</th>\n",
       "      <td>AUS</td>\n",
       "      <td>PISAMATH</td>\n",
       "      <td>BOY</td>\n",
       "      <td>MEANSCORE</td>\n",
       "      <td>A</td>\n",
       "      <td>2006</td>\n",
       "      <td>527.000</td>\n",
       "      <td>NaN</td>\n",
       "      <td>Australia</td>\n",
       "    </tr>\n",
       "    <tr>\n",
       "      <th>2</th>\n",
       "      <td>AUS</td>\n",
       "      <td>PISAMATH</td>\n",
       "      <td>BOY</td>\n",
       "      <td>MEANSCORE</td>\n",
       "      <td>A</td>\n",
       "      <td>2009</td>\n",
       "      <td>519.000</td>\n",
       "      <td>NaN</td>\n",
       "      <td>Australia</td>\n",
       "    </tr>\n",
       "    <tr>\n",
       "      <th>3</th>\n",
       "      <td>AUS</td>\n",
       "      <td>PISAMATH</td>\n",
       "      <td>BOY</td>\n",
       "      <td>MEANSCORE</td>\n",
       "      <td>A</td>\n",
       "      <td>2012</td>\n",
       "      <td>510.115</td>\n",
       "      <td>NaN</td>\n",
       "      <td>Australia</td>\n",
       "    </tr>\n",
       "    <tr>\n",
       "      <th>4</th>\n",
       "      <td>AUS</td>\n",
       "      <td>PISAMATH</td>\n",
       "      <td>BOY</td>\n",
       "      <td>MEANSCORE</td>\n",
       "      <td>A</td>\n",
       "      <td>2015</td>\n",
       "      <td>497.000</td>\n",
       "      <td>NaN</td>\n",
       "      <td>Australia</td>\n",
       "    </tr>\n",
       "  </tbody>\n",
       "</table>\n",
       "</div>"
      ],
      "text/plain": [
       "  LOCATION INDICATOR SUBJECT    MEASURE FREQUENCY  TIME    Value  Flag Codes  \\\n",
       "0      AUS  PISAMATH     BOY  MEANSCORE         A  2003  527.000         NaN   \n",
       "1      AUS  PISAMATH     BOY  MEANSCORE         A  2006  527.000         NaN   \n",
       "2      AUS  PISAMATH     BOY  MEANSCORE         A  2009  519.000         NaN   \n",
       "3      AUS  PISAMATH     BOY  MEANSCORE         A  2012  510.115         NaN   \n",
       "4      AUS  PISAMATH     BOY  MEANSCORE         A  2015  497.000         NaN   \n",
       "\n",
       "     Country  \n",
       "0  Australia  \n",
       "1  Australia  \n",
       "2  Australia  \n",
       "3  Australia  \n",
       "4  Australia  "
      ]
     },
     "execution_count": 9,
     "metadata": {},
     "output_type": "execute_result"
    }
   ],
   "source": [
    "df.head()"
   ]
  },
  {
   "cell_type": "markdown",
   "id": "e8da0d2b-6a3f-47c0-a76d-97351802d6ce",
   "metadata": {},
   "source": [
    "Drop superfluous columns."
   ]
  },
  {
   "cell_type": "code",
   "execution_count": 10,
   "id": "5d1886db-ffb9-419a-ad64-dbe304c1b4f0",
   "metadata": {},
   "outputs": [],
   "source": [
    "# pull up 2012 avg. scores by country—code and name\n",
    "df_tot_2012 = df.query('SUBJECT == \"TOT\" and TIME == 2012')[['LOCATION', 'Country', 'Value']]"
   ]
  },
  {
   "cell_type": "code",
   "execution_count": 11,
   "id": "07ac89cf-9f40-4dc4-98b7-351047c5f166",
   "metadata": {
    "tags": []
   },
   "outputs": [
    {
     "data": {
      "text/html": [
       "<div>\n",
       "<style scoped>\n",
       "    .dataframe tbody tr th:only-of-type {\n",
       "        vertical-align: middle;\n",
       "    }\n",
       "\n",
       "    .dataframe tbody tr th {\n",
       "        vertical-align: top;\n",
       "    }\n",
       "\n",
       "    .dataframe thead th {\n",
       "        text-align: right;\n",
       "    }\n",
       "</style>\n",
       "<table border=\"1\" class=\"dataframe\">\n",
       "  <thead>\n",
       "    <tr style=\"text-align: right;\">\n",
       "      <th></th>\n",
       "      <th>LOCATION</th>\n",
       "      <th>Country</th>\n",
       "      <th>Value</th>\n",
       "    </tr>\n",
       "  </thead>\n",
       "  <tbody>\n",
       "    <tr>\n",
       "      <th>449</th>\n",
       "      <td>AUS</td>\n",
       "      <td>Australia</td>\n",
       "      <td>504.0</td>\n",
       "    </tr>\n",
       "    <tr>\n",
       "      <th>454</th>\n",
       "      <td>AUT</td>\n",
       "      <td>Austria</td>\n",
       "      <td>506.0</td>\n",
       "    </tr>\n",
       "    <tr>\n",
       "      <th>460</th>\n",
       "      <td>BEL</td>\n",
       "      <td>Belgium</td>\n",
       "      <td>515.0</td>\n",
       "    </tr>\n",
       "    <tr>\n",
       "      <th>466</th>\n",
       "      <td>CAN</td>\n",
       "      <td>Canada</td>\n",
       "      <td>518.0</td>\n",
       "    </tr>\n",
       "    <tr>\n",
       "      <th>472</th>\n",
       "      <td>CZE</td>\n",
       "      <td>Czechia</td>\n",
       "      <td>499.0</td>\n",
       "    </tr>\n",
       "  </tbody>\n",
       "</table>\n",
       "</div>"
      ],
      "text/plain": [
       "    LOCATION    Country  Value\n",
       "449      AUS  Australia  504.0\n",
       "454      AUT    Austria  506.0\n",
       "460      BEL    Belgium  515.0\n",
       "466      CAN     Canada  518.0\n",
       "472      CZE    Czechia  499.0"
      ]
     },
     "execution_count": 11,
     "metadata": {},
     "output_type": "execute_result"
    }
   ],
   "source": [
    "df_tot_2012.head()"
   ]
  },
  {
   "cell_type": "markdown",
   "id": "635f940c-a8e9-4bff-96fd-945d05e48a8b",
   "metadata": {},
   "source": [
    "## Explore"
   ]
  },
  {
   "cell_type": "code",
   "execution_count": 12,
   "id": "8c0aac10-531c-419f-9692-5b1a30786510",
   "metadata": {
    "tags": []
   },
   "outputs": [
    {
     "data": {
      "text/html": [
       "<div>\n",
       "<style scoped>\n",
       "    .dataframe tbody tr th:only-of-type {\n",
       "        vertical-align: middle;\n",
       "    }\n",
       "\n",
       "    .dataframe tbody tr th {\n",
       "        vertical-align: top;\n",
       "    }\n",
       "\n",
       "    .dataframe thead th {\n",
       "        text-align: right;\n",
       "    }\n",
       "</style>\n",
       "<table border=\"1\" class=\"dataframe\">\n",
       "  <thead>\n",
       "    <tr style=\"text-align: right;\">\n",
       "      <th></th>\n",
       "      <th>Value</th>\n",
       "    </tr>\n",
       "  </thead>\n",
       "  <tbody>\n",
       "    <tr>\n",
       "      <th>count</th>\n",
       "      <td>39.000000</td>\n",
       "    </tr>\n",
       "    <tr>\n",
       "      <th>mean</th>\n",
       "      <td>487.923077</td>\n",
       "    </tr>\n",
       "    <tr>\n",
       "      <th>std</th>\n",
       "      <td>37.195348</td>\n",
       "    </tr>\n",
       "    <tr>\n",
       "      <th>min</th>\n",
       "      <td>375.000000</td>\n",
       "    </tr>\n",
       "    <tr>\n",
       "      <th>25%</th>\n",
       "      <td>481.500000</td>\n",
       "    </tr>\n",
       "    <tr>\n",
       "      <th>50%</th>\n",
       "      <td>494.000000</td>\n",
       "    </tr>\n",
       "    <tr>\n",
       "      <th>75%</th>\n",
       "      <td>510.000000</td>\n",
       "    </tr>\n",
       "    <tr>\n",
       "      <th>max</th>\n",
       "      <td>554.000000</td>\n",
       "    </tr>\n",
       "  </tbody>\n",
       "</table>\n",
       "</div>"
      ],
      "text/plain": [
       "            Value\n",
       "count   39.000000\n",
       "mean   487.923077\n",
       "std     37.195348\n",
       "min    375.000000\n",
       "25%    481.500000\n",
       "50%    494.000000\n",
       "75%    510.000000\n",
       "max    554.000000"
      ]
     },
     "execution_count": 12,
     "metadata": {},
     "output_type": "execute_result"
    }
   ],
   "source": [
    "df_tot_2012.describe()"
   ]
  },
  {
   "cell_type": "code",
   "execution_count": 13,
   "id": "f444ad6b-09e4-4538-95ea-e0cbe9cc36ea",
   "metadata": {
    "tags": []
   },
   "outputs": [
    {
     "data": {
      "text/html": [
       "<div>\n",
       "<style scoped>\n",
       "    .dataframe tbody tr th:only-of-type {\n",
       "        vertical-align: middle;\n",
       "    }\n",
       "\n",
       "    .dataframe tbody tr th {\n",
       "        vertical-align: top;\n",
       "    }\n",
       "\n",
       "    .dataframe thead th {\n",
       "        text-align: right;\n",
       "    }\n",
       "</style>\n",
       "<table border=\"1\" class=\"dataframe\">\n",
       "  <thead>\n",
       "    <tr style=\"text-align: right;\">\n",
       "      <th></th>\n",
       "      <th>LOCATION</th>\n",
       "      <th>Country</th>\n",
       "      <th>Value</th>\n",
       "    </tr>\n",
       "  </thead>\n",
       "  <tbody>\n",
       "    <tr>\n",
       "      <th>466</th>\n",
       "      <td>CAN</td>\n",
       "      <td>Canada</td>\n",
       "      <td>518.0</td>\n",
       "    </tr>\n",
       "    <tr>\n",
       "      <th>621</th>\n",
       "      <td>USA</td>\n",
       "      <td>United States of America (the)</td>\n",
       "      <td>481.0</td>\n",
       "    </tr>\n",
       "  </tbody>\n",
       "</table>\n",
       "</div>"
      ],
      "text/plain": [
       "    LOCATION                         Country  Value\n",
       "466      CAN                          Canada  518.0\n",
       "621      USA  United States of America (the)  481.0"
      ]
     },
     "execution_count": 13,
     "metadata": {},
     "output_type": "execute_result"
    }
   ],
   "source": [
    "df_tot_2012.query('LOCATION == \"CAN\" or LOCATION == \"USA\"')"
   ]
  },
  {
   "cell_type": "markdown",
   "id": "4574a3dd-41f6-49a4-97a2-33c8b1b295b7",
   "metadata": {},
   "source": [
    "📝 Canada is top-quartile, and the United States is bottom-quartile:"
   ]
  },
  {
   "cell_type": "code",
   "execution_count": 14,
   "id": "e1704f2e-f0e8-4212-91af-e675eab366b6",
   "metadata": {
    "tags": []
   },
   "outputs": [],
   "source": [
    "# bin the scores into quartiles\n",
    "df_tot_2012['Quartile'] = pd.qcut(df_tot_2012.Value, [0, .25, .5, .75, 1.], labels=['bottom', 'lower-mid', 'upper-mid', 'top'])"
   ]
  },
  {
   "cell_type": "code",
   "execution_count": 15,
   "id": "d44f0c80-fe6d-4a5b-9077-874e7d8ecade",
   "metadata": {
    "tags": []
   },
   "outputs": [
    {
     "data": {
      "text/html": [
       "<div>\n",
       "<style scoped>\n",
       "    .dataframe tbody tr th:only-of-type {\n",
       "        vertical-align: middle;\n",
       "    }\n",
       "\n",
       "    .dataframe tbody tr th {\n",
       "        vertical-align: top;\n",
       "    }\n",
       "\n",
       "    .dataframe thead th {\n",
       "        text-align: right;\n",
       "    }\n",
       "</style>\n",
       "<table border=\"1\" class=\"dataframe\">\n",
       "  <thead>\n",
       "    <tr style=\"text-align: right;\">\n",
       "      <th></th>\n",
       "      <th>LOCATION</th>\n",
       "      <th>Country</th>\n",
       "      <th>Value</th>\n",
       "      <th>Quartile</th>\n",
       "    </tr>\n",
       "  </thead>\n",
       "  <tbody>\n",
       "    <tr>\n",
       "      <th>466</th>\n",
       "      <td>CAN</td>\n",
       "      <td>Canada</td>\n",
       "      <td>518.0</td>\n",
       "      <td>top</td>\n",
       "    </tr>\n",
       "    <tr>\n",
       "      <th>621</th>\n",
       "      <td>USA</td>\n",
       "      <td>United States of America (the)</td>\n",
       "      <td>481.0</td>\n",
       "      <td>bottom</td>\n",
       "    </tr>\n",
       "  </tbody>\n",
       "</table>\n",
       "</div>"
      ],
      "text/plain": [
       "    LOCATION                         Country  Value Quartile\n",
       "466      CAN                          Canada  518.0      top\n",
       "621      USA  United States of America (the)  481.0   bottom"
      ]
     },
     "execution_count": 15,
     "metadata": {},
     "output_type": "execute_result"
    }
   ],
   "source": [
    "df_tot_2012.query('LOCATION == \"CAN\" or LOCATION == \"USA\"')"
   ]
  },
  {
   "cell_type": "markdown",
   "id": "af4d23dd-078d-4aff-a8eb-0b8a40cd8cee",
   "metadata": {},
   "source": [
    "### Visualize"
   ]
  },
  {
   "cell_type": "code",
   "execution_count": 16,
   "id": "cd785163-713d-45e1-8e91-07207e3bf39d",
   "metadata": {
    "tags": []
   },
   "outputs": [],
   "source": [
    "df_tot_2012_sort = df_tot_2012.sort_values('Value')"
   ]
  },
  {
   "cell_type": "code",
   "execution_count": 17,
   "id": "5be3347e-5abc-4443-9f0f-e681f6e193ed",
   "metadata": {
    "tags": []
   },
   "outputs": [
    {
     "data": {
      "text/html": [
       "<div>\n",
       "<style scoped>\n",
       "    .dataframe tbody tr th:only-of-type {\n",
       "        vertical-align: middle;\n",
       "    }\n",
       "\n",
       "    .dataframe tbody tr th {\n",
       "        vertical-align: top;\n",
       "    }\n",
       "\n",
       "    .dataframe thead th {\n",
       "        text-align: right;\n",
       "    }\n",
       "</style>\n",
       "<table border=\"1\" class=\"dataframe\">\n",
       "  <thead>\n",
       "    <tr style=\"text-align: right;\">\n",
       "      <th></th>\n",
       "      <th>LOCATION</th>\n",
       "      <th>Country</th>\n",
       "      <th>Value</th>\n",
       "      <th>Quartile</th>\n",
       "    </tr>\n",
       "  </thead>\n",
       "  <tbody>\n",
       "    <tr>\n",
       "      <th>643</th>\n",
       "      <td>IDN</td>\n",
       "      <td>Indonesia</td>\n",
       "      <td>375.0</td>\n",
       "      <td>bottom</td>\n",
       "    </tr>\n",
       "    <tr>\n",
       "      <th>627</th>\n",
       "      <td>BRA</td>\n",
       "      <td>Brazil</td>\n",
       "      <td>389.0</td>\n",
       "      <td>bottom</td>\n",
       "    </tr>\n",
       "    <tr>\n",
       "      <th>550</th>\n",
       "      <td>MEX</td>\n",
       "      <td>Mexico</td>\n",
       "      <td>413.0</td>\n",
       "      <td>bottom</td>\n",
       "    </tr>\n",
       "    <tr>\n",
       "      <th>632</th>\n",
       "      <td>CHL</td>\n",
       "      <td>Chile</td>\n",
       "      <td>423.0</td>\n",
       "      <td>bottom</td>\n",
       "    </tr>\n",
       "    <tr>\n",
       "      <th>610</th>\n",
       "      <td>TUR</td>\n",
       "      <td>Turkey</td>\n",
       "      <td>448.0</td>\n",
       "      <td>bottom</td>\n",
       "    </tr>\n",
       "  </tbody>\n",
       "</table>\n",
       "</div>"
      ],
      "text/plain": [
       "    LOCATION    Country  Value Quartile\n",
       "643      IDN  Indonesia  375.0   bottom\n",
       "627      BRA     Brazil  389.0   bottom\n",
       "550      MEX     Mexico  413.0   bottom\n",
       "632      CHL      Chile  423.0   bottom\n",
       "610      TUR     Turkey  448.0   bottom"
      ]
     },
     "execution_count": 17,
     "metadata": {},
     "output_type": "execute_result"
    }
   ],
   "source": [
    "df_tot_2012_sort.head()"
   ]
  },
  {
   "cell_type": "code",
   "execution_count": 18,
   "id": "ddcbdd25-e0c4-4168-bae9-8d4e85ef0a71",
   "metadata": {
    "tags": []
   },
   "outputs": [
    {
     "data": {
      "image/png": "[encoded data removed]",
      "text/plain": [
       "<Figure size 640x480 with 1 Axes>"
      ]
     },
     "metadata": {},
     "output_type": "display_data"
    }
   ],
   "source": [
    "df_tot_2012_sort.plot.bar('Country', 'Value');"
   ]
  },
  {
   "cell_type": "code",
   "execution_count": 19,
   "id": "9e5491fd-272d-4c09-af7d-32d3d1c138a9",
   "metadata": {
    "tags": []
   },
   "outputs": [],
   "source": [
    "# replace overly long country labels, as well as that NaN—how'd that get there!\n",
    "replace_dict = {\n",
    "    'United States of America (the)': 'United States',\n",
    "    'Russian Federation (the)': 'Russia',\n",
    "    'United Kingdom of Great Britain and Northern Ireland (the)': 'United Kingdom',\n",
    "    'nan': 'OECD Average',\n",
    "    'Netherlands (the)': 'Netherlands',\n",
    "    'Korea (the Republic of)': 'South Korea',\n",
    "}\n",
    "\n",
    "df_tot_2012_sort['Country'] = df_tot_2012_sort['Country'].astype(str)\n",
    "df_tot_2012_sort['Country'] = df_tot_2012_sort['Country'].replace(replace_dict)"
   ]
  },
  {
   "cell_type": "markdown",
   "id": "046d9bb1-ba26-4055-961c-c590a033a325",
   "metadata": {},
   "source": [
    "📝 As for the data, it is concentrated in a narrow band ie the numbers are close together—relative to zero. Furthermore, the data appears skewed, and it may contain outliers."
   ]
  },
  {
   "cell_type": "code",
   "execution_count": 20,
   "id": "739382be-8bfd-416f-b46b-962e2a157136",
   "metadata": {
    "tags": []
   },
   "outputs": [
    {
     "data": {
      "image/png": "[encoded data removed]",
      "text/plain": [
       "<Figure size 640x480 with 1 Axes>"
      ]
     },
     "metadata": {},
     "output_type": "display_data"
    }
   ],
   "source": [
    "plt.hist(df_tot_2012['Value']);"
   ]
  },
  {
   "cell_type": "markdown",
   "id": "8b0813ce-070c-4961-8aa2-1f9755f79ea8",
   "metadata": {},
   "source": [
    "### Test"
   ]
  },
  {
   "cell_type": "code",
   "execution_count": 21,
   "id": "494dc762-3816-4d19-b622-7d495fb87229",
   "metadata": {
    "tags": []
   },
   "outputs": [
    {
     "data": {
      "text/plain": [
       "True"
      ]
     },
     "execution_count": 21,
     "metadata": {},
     "output_type": "execute_result"
    }
   ],
   "source": [
    "# test for outliers using IQR\n",
    "q1 = df_tot_2012.Value.quantile(0.25)\n",
    "q3 = df_tot_2012.Value.quantile(0.75)\n",
    "iqr = q3 - q1\n",
    "\n",
    "np.any((df_tot_2012.Value > q3 + 1.5*iqr) | (df_tot_2012.Value < q1 - 1.5*iqr))"
   ]
  },
  {
   "cell_type": "markdown",
   "id": "012706ba-4cf7-4d76-b430-09f886dc2957",
   "metadata": {},
   "source": [
    "$z = \\dfrac{x - μ}{σ}$"
   ]
  },
  {
   "cell_type": "code",
   "execution_count": 22,
   "id": "7664e6e1-9f8f-40b8-885d-d543222b9c97",
   "metadata": {
    "tags": []
   },
   "outputs": [
    {
     "data": {
      "text/plain": [
       "True"
      ]
     },
     "execution_count": 22,
     "metadata": {},
     "output_type": "execute_result"
    }
   ],
   "source": [
    "# test for outliers using z-scores\n",
    "mu = df_tot_2012.Value.mean()\n",
    "sigma = df_tot_2012.Value.std()\n",
    "\n",
    "np.any(abs((df_tot_2012.Value - mu) / sigma) > 3)"
   ]
  },
  {
   "cell_type": "markdown",
   "id": "9cf3c2bd-e510-4c02-bcfc-97a0dbd5f503",
   "metadata": {
    "tags": []
   },
   "source": [
    "## Explain"
   ]
  },
  {
   "cell_type": "markdown",
   "id": "1e0ad725-6a6e-42dc-bc35-1bc1ceb95530",
   "metadata": {},
   "source": [
    "### Visualize"
   ]
  },
  {
   "cell_type": "code",
   "execution_count": 23,
   "id": "6d8dfb9d-b1b2-4650-a00c-6f384049916d",
   "metadata": {
    "tags": []
   },
   "outputs": [
    {
     "data": {
      "image/png": "[encoded data removed]",
      "text/plain": [
       "<Figure size 1000x600 with 1 Axes>"
      ]
     },
     "metadata": {},
     "output_type": "display_data"
    }
   ],
   "source": [
    "plt.figure(figsize=(10,6))\n",
    "ax = sns.barplot(x=df_tot_2012_sort['Country'], y=df_tot_2012_sort['Value'], color='b')\n",
    "\n",
    "plt.xlabel('Country')\n",
    "plt.ylabel('Score (Mean)')\n",
    "plt.title('Math Performance\\nby Country')\n",
    "plt.xticks(rotation=45, ha='right', rotation_mode='anchor')\n",
    "\n",
    "# highlight the US and Canada\n",
    "ax.patches[9].set_facecolor('red')\n",
    "ax.patches[31].set_facecolor('turquoise')\n",
    "\n",
    "plt.tight_layout();"
   ]
  }
 ],
 "metadata": {
  "kernelspec": {
   "display_name": "Python 3 (ipykernel)",
   "language": "python",
   "name": "python3"
  },
  "language_info": {
   "codemirror_mode": {
    "name": "ipython",
    "version": 3
   },
   "file_extension": ".py",
   "mimetype": "text/x-python",
   "name": "python",
   "nbconvert_exporter": "python",
   "pygments_lexer": "ipython3",
   "version": "3.9.18"
  }
 },
 "nbformat": 4,
 "nbformat_minor": 5
}
